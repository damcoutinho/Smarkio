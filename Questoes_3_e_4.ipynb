{
 "cells": [
  {
   "cell_type": "markdown",
   "metadata": {},
   "source": [
    "# Questões 3 e 4"
   ]
  },
  {
   "cell_type": "code",
   "execution_count": 27,
   "metadata": {
    "collapsed": true
   },
   "outputs": [],
   "source": [
    "#Módulos utilizados:\n",
    "import pandas as pd\n",
    "import numpy as np\n",
    "%matplotlib inline\n",
    "import matplotlib.pyplot as plt\n",
    "import warnings\n",
    "warnings.filterwarnings('ignore')"
   ]
  },
  {
   "cell_type": "code",
   "execution_count": 28,
   "metadata": {
    "collapsed": true
   },
   "outputs": [],
   "source": [
    "path = \"teste_smarkio_lbs.xls\"\n",
    "df1 = pd.read_excel(path, 'Análise_ML')"
   ]
  },
  {
   "cell_type": "code",
   "execution_count": 29,
   "metadata": {},
   "outputs": [
    {
     "data": {
      "text/html": [
       "<div>\n",
       "<style scoped>\n",
       "    .dataframe tbody tr th:only-of-type {\n",
       "        vertical-align: middle;\n",
       "    }\n",
       "\n",
       "    .dataframe tbody tr th {\n",
       "        vertical-align: top;\n",
       "    }\n",
       "\n",
       "    .dataframe thead th {\n",
       "        text-align: right;\n",
       "    }\n",
       "</style>\n",
       "<table border=\"1\" class=\"dataframe\">\n",
       "  <thead>\n",
       "    <tr style=\"text-align: right;\">\n",
       "      <th></th>\n",
       "      <th>Pred_class</th>\n",
       "      <th>probabilidade</th>\n",
       "      <th>status</th>\n",
       "      <th>True_class</th>\n",
       "    </tr>\n",
       "  </thead>\n",
       "  <tbody>\n",
       "    <tr>\n",
       "      <th>0</th>\n",
       "      <td>2</td>\n",
       "      <td>0.079892</td>\n",
       "      <td>approved</td>\n",
       "      <td>0.0</td>\n",
       "    </tr>\n",
       "    <tr>\n",
       "      <th>1</th>\n",
       "      <td>2</td>\n",
       "      <td>0.379377</td>\n",
       "      <td>approved</td>\n",
       "      <td>74.0</td>\n",
       "    </tr>\n",
       "    <tr>\n",
       "      <th>2</th>\n",
       "      <td>2</td>\n",
       "      <td>0.379377</td>\n",
       "      <td>approved</td>\n",
       "      <td>74.0</td>\n",
       "    </tr>\n",
       "    <tr>\n",
       "      <th>3</th>\n",
       "      <td>2</td>\n",
       "      <td>0.420930</td>\n",
       "      <td>approved</td>\n",
       "      <td>74.0</td>\n",
       "    </tr>\n",
       "    <tr>\n",
       "      <th>4</th>\n",
       "      <td>2</td>\n",
       "      <td>0.607437</td>\n",
       "      <td>approved</td>\n",
       "      <td>NaN</td>\n",
       "    </tr>\n",
       "  </tbody>\n",
       "</table>\n",
       "</div>"
      ],
      "text/plain": [
       "   Pred_class  probabilidade    status  True_class\n",
       "0           2       0.079892  approved         0.0\n",
       "1           2       0.379377  approved        74.0\n",
       "2           2       0.379377  approved        74.0\n",
       "3           2       0.420930  approved        74.0\n",
       "4           2       0.607437  approved         NaN"
      ]
     },
     "execution_count": 29,
     "metadata": {},
     "output_type": "execute_result"
    }
   ],
   "source": [
    "df1.head()"
   ]
  },
  {
   "cell_type": "code",
   "execution_count": 30,
   "metadata": {
    "collapsed": true
   },
   "outputs": [],
   "source": [
    "#Separar o que é approved para amostra de treino e validacao\n",
    "\n",
    "df_ap = df1[df1['status']=='approved']"
   ]
  },
  {
   "cell_type": "code",
   "execution_count": 31,
   "metadata": {
    "collapsed": true
   },
   "outputs": [],
   "source": [
    "#Criação da variavel alvo: 1 para previu certo e 0 para previsoes erradas\n",
    "df_ap['Classe_verdadeira'] = df_ap['True_class']\n",
    "df_ap['Classe_verdadeira'] = np.where(df_ap['Classe_verdadeira'].notnull(),0,1)"
   ]
  },
  {
   "cell_type": "code",
   "execution_count": 32,
   "metadata": {},
   "outputs": [
    {
     "data": {
      "text/html": [
       "<div>\n",
       "<style scoped>\n",
       "    .dataframe tbody tr th:only-of-type {\n",
       "        vertical-align: middle;\n",
       "    }\n",
       "\n",
       "    .dataframe tbody tr th {\n",
       "        vertical-align: top;\n",
       "    }\n",
       "\n",
       "    .dataframe thead th {\n",
       "        text-align: right;\n",
       "    }\n",
       "</style>\n",
       "<table border=\"1\" class=\"dataframe\">\n",
       "  <thead>\n",
       "    <tr style=\"text-align: right;\">\n",
       "      <th></th>\n",
       "      <th>Pred_class</th>\n",
       "      <th>probabilidade</th>\n",
       "      <th>status</th>\n",
       "      <th>True_class</th>\n",
       "      <th>Classe_verdadeira</th>\n",
       "    </tr>\n",
       "  </thead>\n",
       "  <tbody>\n",
       "    <tr>\n",
       "      <th>0</th>\n",
       "      <td>2</td>\n",
       "      <td>0.079892</td>\n",
       "      <td>approved</td>\n",
       "      <td>0.0</td>\n",
       "      <td>0</td>\n",
       "    </tr>\n",
       "    <tr>\n",
       "      <th>1</th>\n",
       "      <td>2</td>\n",
       "      <td>0.379377</td>\n",
       "      <td>approved</td>\n",
       "      <td>74.0</td>\n",
       "      <td>0</td>\n",
       "    </tr>\n",
       "    <tr>\n",
       "      <th>2</th>\n",
       "      <td>2</td>\n",
       "      <td>0.379377</td>\n",
       "      <td>approved</td>\n",
       "      <td>74.0</td>\n",
       "      <td>0</td>\n",
       "    </tr>\n",
       "    <tr>\n",
       "      <th>3</th>\n",
       "      <td>2</td>\n",
       "      <td>0.420930</td>\n",
       "      <td>approved</td>\n",
       "      <td>74.0</td>\n",
       "      <td>0</td>\n",
       "    </tr>\n",
       "    <tr>\n",
       "      <th>4</th>\n",
       "      <td>2</td>\n",
       "      <td>0.607437</td>\n",
       "      <td>approved</td>\n",
       "      <td>NaN</td>\n",
       "      <td>1</td>\n",
       "    </tr>\n",
       "  </tbody>\n",
       "</table>\n",
       "</div>"
      ],
      "text/plain": [
       "   Pred_class  probabilidade    status  True_class  Classe_verdadeira\n",
       "0           2       0.079892  approved         0.0                  0\n",
       "1           2       0.379377  approved        74.0                  0\n",
       "2           2       0.379377  approved        74.0                  0\n",
       "3           2       0.420930  approved        74.0                  0\n",
       "4           2       0.607437  approved         NaN                  1"
      ]
     },
     "execution_count": 32,
     "metadata": {},
     "output_type": "execute_result"
    }
   ],
   "source": [
    "df_ap.head()"
   ]
  },
  {
   "cell_type": "code",
   "execution_count": 33,
   "metadata": {},
   "outputs": [
    {
     "data": {
      "text/plain": [
       "1    419\n",
       "0    181\n",
       "Name: Classe_verdadeira, dtype: int64"
      ]
     },
     "execution_count": 33,
     "metadata": {},
     "output_type": "execute_result"
    }
   ],
   "source": [
    "#Distribuição da variavel alvo\n",
    "df_ap['Classe_verdadeira'].value_counts()"
   ]
  },
  {
   "cell_type": "code",
   "execution_count": 34,
   "metadata": {
    "collapsed": true
   },
   "outputs": [],
   "source": [
    "#Remocao das colunas status e True_class\n",
    "df_ap.drop(columns=['status','True_class'],axis='columns',inplace=True)"
   ]
  },
  {
   "cell_type": "code",
   "execution_count": 35,
   "metadata": {},
   "outputs": [
    {
     "data": {
      "text/html": [
       "<div>\n",
       "<style scoped>\n",
       "    .dataframe tbody tr th:only-of-type {\n",
       "        vertical-align: middle;\n",
       "    }\n",
       "\n",
       "    .dataframe tbody tr th {\n",
       "        vertical-align: top;\n",
       "    }\n",
       "\n",
       "    .dataframe thead th {\n",
       "        text-align: right;\n",
       "    }\n",
       "</style>\n",
       "<table border=\"1\" class=\"dataframe\">\n",
       "  <thead>\n",
       "    <tr style=\"text-align: right;\">\n",
       "      <th></th>\n",
       "      <th>Pred_class</th>\n",
       "      <th>probabilidade</th>\n",
       "      <th>Classe_verdadeira</th>\n",
       "    </tr>\n",
       "  </thead>\n",
       "  <tbody>\n",
       "    <tr>\n",
       "      <th>0</th>\n",
       "      <td>2</td>\n",
       "      <td>0.079892</td>\n",
       "      <td>0</td>\n",
       "    </tr>\n",
       "    <tr>\n",
       "      <th>1</th>\n",
       "      <td>2</td>\n",
       "      <td>0.379377</td>\n",
       "      <td>0</td>\n",
       "    </tr>\n",
       "    <tr>\n",
       "      <th>2</th>\n",
       "      <td>2</td>\n",
       "      <td>0.379377</td>\n",
       "      <td>0</td>\n",
       "    </tr>\n",
       "    <tr>\n",
       "      <th>3</th>\n",
       "      <td>2</td>\n",
       "      <td>0.420930</td>\n",
       "      <td>0</td>\n",
       "    </tr>\n",
       "    <tr>\n",
       "      <th>4</th>\n",
       "      <td>2</td>\n",
       "      <td>0.607437</td>\n",
       "      <td>1</td>\n",
       "    </tr>\n",
       "  </tbody>\n",
       "</table>\n",
       "</div>"
      ],
      "text/plain": [
       "   Pred_class  probabilidade  Classe_verdadeira\n",
       "0           2       0.079892                  0\n",
       "1           2       0.379377                  0\n",
       "2           2       0.379377                  0\n",
       "3           2       0.420930                  0\n",
       "4           2       0.607437                  1"
      ]
     },
     "execution_count": 35,
     "metadata": {},
     "output_type": "execute_result"
    }
   ],
   "source": [
    "df_ap.head()"
   ]
  },
  {
   "cell_type": "code",
   "execution_count": 36,
   "metadata": {},
   "outputs": [
    {
     "data": {
      "text/plain": [
       "Pred_class           False\n",
       "probabilidade        False\n",
       "Classe_verdadeira    False\n",
       "dtype: bool"
      ]
     },
     "execution_count": 36,
     "metadata": {},
     "output_type": "execute_result"
    }
   ],
   "source": [
    "df_ap.isnull().any()"
   ]
  },
  {
   "cell_type": "code",
   "execution_count": 37,
   "metadata": {
    "collapsed": true
   },
   "outputs": [],
   "source": [
    "#Separacao da variavel dependente das variaveis explanatorias\n",
    "X=df_ap.iloc[:,:-1]\n",
    "y=df_ap.iloc[:,-1:]"
   ]
  },
  {
   "cell_type": "markdown",
   "metadata": {},
   "source": [
    "## Treino de um Random Forest"
   ]
  },
  {
   "cell_type": "code",
   "execution_count": 38,
   "metadata": {},
   "outputs": [
    {
     "data": {
      "text/plain": [
       "{'fit_time': array([0.42928195, 0.39597821, 0.4306047 , 0.41760659, 0.41905832]),\n",
       " 'score_time': array([0.02988601, 0.02393436, 0.02293825, 0.02503943, 0.02293825]),\n",
       " 'test_accuracy': array([0.70833333, 0.71666667, 0.83333333, 0.76666667, 0.75      ]),\n",
       " 'test_f1': array([0.78527607, 0.78481013, 0.88095238, 0.83529412, 0.84210526]),\n",
       " 'test_precision': array([0.8       , 0.83783784, 0.88095238, 0.8255814 , 0.75471698]),\n",
       " 'test_recall': array([0.77108434, 0.73809524, 0.88095238, 0.8452381 , 0.95238095])}"
      ]
     },
     "execution_count": 38,
     "metadata": {},
     "output_type": "execute_result"
    }
   ],
   "source": [
    "from sklearn.ensemble import RandomForestClassifier\n",
    "from sklearn.model_selection import cross_validate\n",
    "\n",
    "modelo_rf = RandomForestClassifier(n_estimators=200,criterion = 'entropy', random_state=42)\n",
    "\n",
    "#treino com cross validacao\n",
    "scores_rf = cross_validate(modelo_rf,X,y,scoring=('accuracy','precision','recall','f1') )\n",
    "\n",
    "scores_rf"
   ]
  },
  {
   "cell_type": "code",
   "execution_count": 39,
   "metadata": {},
   "outputs": [
    {
     "name": "stdout",
     "output_type": "stream",
     "text": [
      "Médias: \n",
      " - acuracia:0.755,\n",
      " - precisao:0.8198177190542264,\n",
      " - recall:0.8375502008032129,\n",
      " - F1:0.825687592391849\n"
     ]
    }
   ],
   "source": [
    "acuracia_media_rf = scores_rf['test_accuracy'].mean()\n",
    "precisao_media_rf = scores_rf['test_precision'].mean()\n",
    "recall_media_rf =  scores_rf['test_recall'].mean()\n",
    "f1_media_rf = scores_rf['test_f1'].mean()\n",
    "print('Médias: \\n - acuracia:{},\\n - precisao:{},\\n - recall:{},\\n - F1:{}'.\n",
    "      format(acuracia_media_rf,precisao_media_rf,recall_media_rf,f1_media_rf))"
   ]
  },
  {
   "cell_type": "markdown",
   "metadata": {},
   "source": [
    "## Treino de um XGBoost"
   ]
  },
  {
   "cell_type": "code",
   "execution_count": 40,
   "metadata": {
    "collapsed": true
   },
   "outputs": [],
   "source": [
    "from xgboost import XGBClassifier\n",
    "\n",
    "modelo_x = XGBClassifier(n_estimators = 1000, learning_rate = 0.05, seed=42)\n",
    "\n",
    "#treino com cross validacao\n",
    "scores_x= cross_validate(modelo_x,X,y,scoring=('accuracy','precision','recall','f1') )\n"
   ]
  },
  {
   "cell_type": "code",
   "execution_count": 41,
   "metadata": {},
   "outputs": [
    {
     "name": "stdout",
     "output_type": "stream",
     "text": [
      "Médias: \n",
      " - acuracia:0.7466666666666667,\n",
      " - precisao:0.8196536553737207,\n",
      " - recall:0.8187894434882386,\n",
      " - F1:0.8175796902122275\n"
     ]
    }
   ],
   "source": [
    "acuracia_media_x = scores_x['test_accuracy'].mean()\n",
    "precisao_media_x = scores_x['test_precision'].mean()\n",
    "recall_media_x =  scores_x['test_recall'].mean()\n",
    "f1_media_x = scores_x['test_f1'].mean()\n",
    "print('Médias: \\n - acuracia:{},\\n - precisao:{},\\n - recall:{},\\n - F1:{}'.\n",
    "      format(acuracia_media_x,precisao_media_x,recall_media_x,f1_media_x))"
   ]
  },
  {
   "cell_type": "markdown",
   "metadata": {},
   "source": [
    "## Métricas"
   ]
  },
  {
   "cell_type": "markdown",
   "metadata": {},
   "source": [
    "Considerando:\n",
    "- VP = verdadeiros positivos\n",
    "- FP = falsos posistivos\n",
    "- FN = falsos negativos\n",
    "- VF = verdadeiros falsos\n",
    "\n",
    "Vamos considerar as seguintes métricas:\n",
    "\n",
    "- A Acurácia, que mede o numero de predições corretas em relação ao total de predições (VP+VF/VP+FP+FN+VF)\n",
    "- A Precisão, que quantifica o número de verdadeiros positivos dentre todas as previsões positivas (VP/VP+FP)\n",
    "- O Recall, que quantifica o numero de verdadeiros positivos dentro todos os exemplos positivos \n",
    "do dataset (VP/VP+FN)"
   ]
  },
  {
   "cell_type": "markdown",
   "metadata": {},
   "source": [
    "## Previsão"
   ]
  },
  {
   "cell_type": "markdown",
   "metadata": {},
   "source": [
    "Uma vez que as métricas do Random Forest foram ligeiramente superiores, vamos utiliza-lo para a previsão no set de dados com status de revision"
   ]
  },
  {
   "cell_type": "code",
   "execution_count": 42,
   "metadata": {
    "collapsed": true
   },
   "outputs": [],
   "source": [
    "#Filtrando do set de dados o status de revision\n",
    "df_rev = df1[df1['status']=='revision']"
   ]
  },
  {
   "cell_type": "code",
   "execution_count": 43,
   "metadata": {},
   "outputs": [
    {
     "data": {
      "text/plain": [
       "43"
      ]
     },
     "execution_count": 43,
     "metadata": {},
     "output_type": "execute_result"
    }
   ],
   "source": [
    "#tamanho do set de dados\n",
    "len(df_rev)"
   ]
  },
  {
   "cell_type": "code",
   "execution_count": 44,
   "metadata": {
    "collapsed": true
   },
   "outputs": [],
   "source": [
    "#Remocao das colunas status e True_class\n",
    "df_rev.drop(columns=['status','True_class'],axis='columns',inplace=True)"
   ]
  },
  {
   "cell_type": "code",
   "execution_count": 45,
   "metadata": {
    "collapsed": true
   },
   "outputs": [],
   "source": [
    "modelo_escolhido = modelo_rf.fit(X,y)"
   ]
  },
  {
   "cell_type": "code",
   "execution_count": 46,
   "metadata": {
    "collapsed": true
   },
   "outputs": [],
   "source": [
    "pred_rf = modelo_escolhido.predict(df_rev)"
   ]
  },
  {
   "cell_type": "code",
   "execution_count": 47,
   "metadata": {
    "collapsed": true
   },
   "outputs": [],
   "source": [
    "df_rev['Predicao correta'] = pred_rf"
   ]
  },
  {
   "cell_type": "code",
   "execution_count": 48,
   "metadata": {},
   "outputs": [
    {
     "data": {
      "text/html": [
       "<div>\n",
       "<style scoped>\n",
       "    .dataframe tbody tr th:only-of-type {\n",
       "        vertical-align: middle;\n",
       "    }\n",
       "\n",
       "    .dataframe tbody tr th {\n",
       "        vertical-align: top;\n",
       "    }\n",
       "\n",
       "    .dataframe thead th {\n",
       "        text-align: right;\n",
       "    }\n",
       "</style>\n",
       "<table border=\"1\" class=\"dataframe\">\n",
       "  <thead>\n",
       "    <tr style=\"text-align: right;\">\n",
       "      <th></th>\n",
       "      <th>Pred_class</th>\n",
       "      <th>probabilidade</th>\n",
       "      <th>Predicao correta</th>\n",
       "    </tr>\n",
       "  </thead>\n",
       "  <tbody>\n",
       "    <tr>\n",
       "      <th>83</th>\n",
       "      <td>2</td>\n",
       "      <td>0.752448</td>\n",
       "      <td>1</td>\n",
       "    </tr>\n",
       "    <tr>\n",
       "      <th>164</th>\n",
       "      <td>3</td>\n",
       "      <td>0.784920</td>\n",
       "      <td>1</td>\n",
       "    </tr>\n",
       "    <tr>\n",
       "      <th>191</th>\n",
       "      <td>12</td>\n",
       "      <td>0.574756</td>\n",
       "      <td>0</td>\n",
       "    </tr>\n",
       "    <tr>\n",
       "      <th>201</th>\n",
       "      <td>17</td>\n",
       "      <td>0.506654</td>\n",
       "      <td>0</td>\n",
       "    </tr>\n",
       "    <tr>\n",
       "      <th>236</th>\n",
       "      <td>24</td>\n",
       "      <td>0.817525</td>\n",
       "      <td>1</td>\n",
       "    </tr>\n",
       "    <tr>\n",
       "      <th>237</th>\n",
       "      <td>24</td>\n",
       "      <td>0.909148</td>\n",
       "      <td>1</td>\n",
       "    </tr>\n",
       "    <tr>\n",
       "      <th>238</th>\n",
       "      <td>24</td>\n",
       "      <td>0.737133</td>\n",
       "      <td>1</td>\n",
       "    </tr>\n",
       "    <tr>\n",
       "      <th>239</th>\n",
       "      <td>24</td>\n",
       "      <td>0.318306</td>\n",
       "      <td>1</td>\n",
       "    </tr>\n",
       "    <tr>\n",
       "      <th>242</th>\n",
       "      <td>25</td>\n",
       "      <td>0.509871</td>\n",
       "      <td>1</td>\n",
       "    </tr>\n",
       "    <tr>\n",
       "      <th>243</th>\n",
       "      <td>25</td>\n",
       "      <td>0.629700</td>\n",
       "      <td>1</td>\n",
       "    </tr>\n",
       "    <tr>\n",
       "      <th>244</th>\n",
       "      <td>25</td>\n",
       "      <td>0.633426</td>\n",
       "      <td>1</td>\n",
       "    </tr>\n",
       "    <tr>\n",
       "      <th>264</th>\n",
       "      <td>32</td>\n",
       "      <td>0.621226</td>\n",
       "      <td>0</td>\n",
       "    </tr>\n",
       "    <tr>\n",
       "      <th>265</th>\n",
       "      <td>36</td>\n",
       "      <td>0.285545</td>\n",
       "      <td>0</td>\n",
       "    </tr>\n",
       "    <tr>\n",
       "      <th>268</th>\n",
       "      <td>39</td>\n",
       "      <td>0.812112</td>\n",
       "      <td>1</td>\n",
       "    </tr>\n",
       "    <tr>\n",
       "      <th>269</th>\n",
       "      <td>39</td>\n",
       "      <td>0.812112</td>\n",
       "      <td>1</td>\n",
       "    </tr>\n",
       "    <tr>\n",
       "      <th>277</th>\n",
       "      <td>43</td>\n",
       "      <td>0.725794</td>\n",
       "      <td>1</td>\n",
       "    </tr>\n",
       "    <tr>\n",
       "      <th>281</th>\n",
       "      <td>43</td>\n",
       "      <td>0.740075</td>\n",
       "      <td>1</td>\n",
       "    </tr>\n",
       "    <tr>\n",
       "      <th>319</th>\n",
       "      <td>55</td>\n",
       "      <td>0.740292</td>\n",
       "      <td>1</td>\n",
       "    </tr>\n",
       "    <tr>\n",
       "      <th>320</th>\n",
       "      <td>55</td>\n",
       "      <td>0.675269</td>\n",
       "      <td>1</td>\n",
       "    </tr>\n",
       "    <tr>\n",
       "      <th>372</th>\n",
       "      <td>60</td>\n",
       "      <td>0.511118</td>\n",
       "      <td>1</td>\n",
       "    </tr>\n",
       "    <tr>\n",
       "      <th>373</th>\n",
       "      <td>60</td>\n",
       "      <td>0.543772</td>\n",
       "      <td>1</td>\n",
       "    </tr>\n",
       "    <tr>\n",
       "      <th>376</th>\n",
       "      <td>60</td>\n",
       "      <td>0.553846</td>\n",
       "      <td>1</td>\n",
       "    </tr>\n",
       "    <tr>\n",
       "      <th>457</th>\n",
       "      <td>77</td>\n",
       "      <td>0.419723</td>\n",
       "      <td>0</td>\n",
       "    </tr>\n",
       "    <tr>\n",
       "      <th>459</th>\n",
       "      <td>77</td>\n",
       "      <td>0.606065</td>\n",
       "      <td>1</td>\n",
       "    </tr>\n",
       "    <tr>\n",
       "      <th>487</th>\n",
       "      <td>84</td>\n",
       "      <td>0.561842</td>\n",
       "      <td>1</td>\n",
       "    </tr>\n",
       "    <tr>\n",
       "      <th>503</th>\n",
       "      <td>86</td>\n",
       "      <td>0.545478</td>\n",
       "      <td>1</td>\n",
       "    </tr>\n",
       "    <tr>\n",
       "      <th>546</th>\n",
       "      <td>96</td>\n",
       "      <td>0.340740</td>\n",
       "      <td>1</td>\n",
       "    </tr>\n",
       "    <tr>\n",
       "      <th>608</th>\n",
       "      <td>77</td>\n",
       "      <td>0.403734</td>\n",
       "      <td>0</td>\n",
       "    </tr>\n",
       "    <tr>\n",
       "      <th>611</th>\n",
       "      <td>114</td>\n",
       "      <td>0.487069</td>\n",
       "      <td>1</td>\n",
       "    </tr>\n",
       "    <tr>\n",
       "      <th>612</th>\n",
       "      <td>11</td>\n",
       "      <td>0.320702</td>\n",
       "      <td>0</td>\n",
       "    </tr>\n",
       "    <tr>\n",
       "      <th>613</th>\n",
       "      <td>24</td>\n",
       "      <td>0.287126</td>\n",
       "      <td>1</td>\n",
       "    </tr>\n",
       "    <tr>\n",
       "      <th>615</th>\n",
       "      <td>2</td>\n",
       "      <td>0.331168</td>\n",
       "      <td>1</td>\n",
       "    </tr>\n",
       "    <tr>\n",
       "      <th>616</th>\n",
       "      <td>3</td>\n",
       "      <td>0.399808</td>\n",
       "      <td>1</td>\n",
       "    </tr>\n",
       "    <tr>\n",
       "      <th>617</th>\n",
       "      <td>4</td>\n",
       "      <td>0.405327</td>\n",
       "      <td>0</td>\n",
       "    </tr>\n",
       "    <tr>\n",
       "      <th>618</th>\n",
       "      <td>22</td>\n",
       "      <td>0.324137</td>\n",
       "      <td>1</td>\n",
       "    </tr>\n",
       "    <tr>\n",
       "      <th>623</th>\n",
       "      <td>60</td>\n",
       "      <td>0.421998</td>\n",
       "      <td>1</td>\n",
       "    </tr>\n",
       "    <tr>\n",
       "      <th>624</th>\n",
       "      <td>81</td>\n",
       "      <td>0.351401</td>\n",
       "      <td>1</td>\n",
       "    </tr>\n",
       "    <tr>\n",
       "      <th>625</th>\n",
       "      <td>96</td>\n",
       "      <td>0.313003</td>\n",
       "      <td>1</td>\n",
       "    </tr>\n",
       "    <tr>\n",
       "      <th>627</th>\n",
       "      <td>2</td>\n",
       "      <td>0.334350</td>\n",
       "      <td>0</td>\n",
       "    </tr>\n",
       "    <tr>\n",
       "      <th>628</th>\n",
       "      <td>3</td>\n",
       "      <td>0.351031</td>\n",
       "      <td>0</td>\n",
       "    </tr>\n",
       "    <tr>\n",
       "      <th>630</th>\n",
       "      <td>4</td>\n",
       "      <td>0.278516</td>\n",
       "      <td>1</td>\n",
       "    </tr>\n",
       "    <tr>\n",
       "      <th>631</th>\n",
       "      <td>4</td>\n",
       "      <td>0.301915</td>\n",
       "      <td>1</td>\n",
       "    </tr>\n",
       "    <tr>\n",
       "      <th>632</th>\n",
       "      <td>113</td>\n",
       "      <td>0.516733</td>\n",
       "      <td>1</td>\n",
       "    </tr>\n",
       "  </tbody>\n",
       "</table>\n",
       "</div>"
      ],
      "text/plain": [
       "     Pred_class  probabilidade  Predicao correta\n",
       "83            2       0.752448                 1\n",
       "164           3       0.784920                 1\n",
       "191          12       0.574756                 0\n",
       "201          17       0.506654                 0\n",
       "236          24       0.817525                 1\n",
       "237          24       0.909148                 1\n",
       "238          24       0.737133                 1\n",
       "239          24       0.318306                 1\n",
       "242          25       0.509871                 1\n",
       "243          25       0.629700                 1\n",
       "244          25       0.633426                 1\n",
       "264          32       0.621226                 0\n",
       "265          36       0.285545                 0\n",
       "268          39       0.812112                 1\n",
       "269          39       0.812112                 1\n",
       "277          43       0.725794                 1\n",
       "281          43       0.740075                 1\n",
       "319          55       0.740292                 1\n",
       "320          55       0.675269                 1\n",
       "372          60       0.511118                 1\n",
       "373          60       0.543772                 1\n",
       "376          60       0.553846                 1\n",
       "457          77       0.419723                 0\n",
       "459          77       0.606065                 1\n",
       "487          84       0.561842                 1\n",
       "503          86       0.545478                 1\n",
       "546          96       0.340740                 1\n",
       "608          77       0.403734                 0\n",
       "611         114       0.487069                 1\n",
       "612          11       0.320702                 0\n",
       "613          24       0.287126                 1\n",
       "615           2       0.331168                 1\n",
       "616           3       0.399808                 1\n",
       "617           4       0.405327                 0\n",
       "618          22       0.324137                 1\n",
       "623          60       0.421998                 1\n",
       "624          81       0.351401                 1\n",
       "625          96       0.313003                 1\n",
       "627           2       0.334350                 0\n",
       "628           3       0.351031                 0\n",
       "630           4       0.278516                 1\n",
       "631           4       0.301915                 1\n",
       "632         113       0.516733                 1"
      ]
     },
     "execution_count": 48,
     "metadata": {},
     "output_type": "execute_result"
    }
   ],
   "source": [
    "#1 - previu certo e 0 - previu errado\n",
    "df_rev"
   ]
  },
  {
   "cell_type": "code",
   "execution_count": 49,
   "metadata": {},
   "outputs": [
    {
     "data": {
      "text/plain": [
       "1    33\n",
       "0    10\n",
       "Name: Predicao correta, dtype: int64"
      ]
     },
     "execution_count": 49,
     "metadata": {},
     "output_type": "execute_result"
    }
   ],
   "source": [
    "df_rev['Predicao correta'].value_counts()"
   ]
  },
  {
   "cell_type": "code",
   "execution_count": null,
   "metadata": {
    "collapsed": true
   },
   "outputs": [],
   "source": []
  }
 ],
 "metadata": {
  "kernelspec": {
   "display_name": "Python [default]",
   "language": "python",
   "name": "python3"
  },
  "language_info": {
   "codemirror_mode": {
    "name": "ipython",
    "version": 3
   },
   "file_extension": ".py",
   "mimetype": "text/x-python",
   "name": "python",
   "nbconvert_exporter": "python",
   "pygments_lexer": "ipython3",
   "version": "3.5.6"
  }
 },
 "nbformat": 4,
 "nbformat_minor": 2
}
