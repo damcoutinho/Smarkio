{
 "cells": [
  {
   "cell_type": "markdown",
   "metadata": {},
   "source": [
    "# Questão 2"
   ]
  },
  {
   "cell_type": "code",
   "execution_count": 17,
   "metadata": {
    "collapsed": true
   },
   "outputs": [],
   "source": [
    "import pandas as pd\n",
    "import numpy as np\n",
    "%matplotlib inline\n",
    "import matplotlib.pyplot as plt\n",
    "import warnings\n",
    "warnings.filterwarnings('ignore')"
   ]
  },
  {
   "cell_type": "code",
   "execution_count": 18,
   "metadata": {
    "collapsed": true
   },
   "outputs": [],
   "source": [
    "path = \"teste_smarkio_lbs.xls\"\n",
    "df1 = pd.read_excel(path, 'Análise_ML')"
   ]
  },
  {
   "cell_type": "code",
   "execution_count": 19,
   "metadata": {},
   "outputs": [
    {
     "data": {
      "text/html": [
       "<div>\n",
       "<style scoped>\n",
       "    .dataframe tbody tr th:only-of-type {\n",
       "        vertical-align: middle;\n",
       "    }\n",
       "\n",
       "    .dataframe tbody tr th {\n",
       "        vertical-align: top;\n",
       "    }\n",
       "\n",
       "    .dataframe thead th {\n",
       "        text-align: right;\n",
       "    }\n",
       "</style>\n",
       "<table border=\"1\" class=\"dataframe\">\n",
       "  <thead>\n",
       "    <tr style=\"text-align: right;\">\n",
       "      <th></th>\n",
       "      <th>Pred_class</th>\n",
       "      <th>probabilidade</th>\n",
       "      <th>status</th>\n",
       "      <th>True_class</th>\n",
       "    </tr>\n",
       "  </thead>\n",
       "  <tbody>\n",
       "    <tr>\n",
       "      <th>0</th>\n",
       "      <td>2</td>\n",
       "      <td>0.079892</td>\n",
       "      <td>approved</td>\n",
       "      <td>0.0</td>\n",
       "    </tr>\n",
       "    <tr>\n",
       "      <th>1</th>\n",
       "      <td>2</td>\n",
       "      <td>0.379377</td>\n",
       "      <td>approved</td>\n",
       "      <td>74.0</td>\n",
       "    </tr>\n",
       "    <tr>\n",
       "      <th>2</th>\n",
       "      <td>2</td>\n",
       "      <td>0.379377</td>\n",
       "      <td>approved</td>\n",
       "      <td>74.0</td>\n",
       "    </tr>\n",
       "    <tr>\n",
       "      <th>3</th>\n",
       "      <td>2</td>\n",
       "      <td>0.420930</td>\n",
       "      <td>approved</td>\n",
       "      <td>74.0</td>\n",
       "    </tr>\n",
       "    <tr>\n",
       "      <th>4</th>\n",
       "      <td>2</td>\n",
       "      <td>0.607437</td>\n",
       "      <td>approved</td>\n",
       "      <td>NaN</td>\n",
       "    </tr>\n",
       "  </tbody>\n",
       "</table>\n",
       "</div>"
      ],
      "text/plain": [
       "   Pred_class  probabilidade    status  True_class\n",
       "0           2       0.079892  approved         0.0\n",
       "1           2       0.379377  approved        74.0\n",
       "2           2       0.379377  approved        74.0\n",
       "3           2       0.420930  approved        74.0\n",
       "4           2       0.607437  approved         NaN"
      ]
     },
     "execution_count": 19,
     "metadata": {},
     "output_type": "execute_result"
    }
   ],
   "source": [
    "df1.head()"
   ]
  },
  {
   "cell_type": "code",
   "execution_count": 20,
   "metadata": {
    "collapsed": true
   },
   "outputs": [],
   "source": [
    "#Separando apenas os approved\n",
    "df_ap = df1[df1['status']=='approved']"
   ]
  },
  {
   "cell_type": "code",
   "execution_count": 21,
   "metadata": {
    "collapsed": true
   },
   "outputs": [],
   "source": [
    "#Substituindo os NaN pela classe correta\n",
    "df1['True_class'] = np.where(df1['True_class'].isnull(),df1['Pred_class'],df1['True_class'])"
   ]
  },
  {
   "cell_type": "code",
   "execution_count": 22,
   "metadata": {},
   "outputs": [
    {
     "data": {
      "text/html": [
       "<div>\n",
       "<style scoped>\n",
       "    .dataframe tbody tr th:only-of-type {\n",
       "        vertical-align: middle;\n",
       "    }\n",
       "\n",
       "    .dataframe tbody tr th {\n",
       "        vertical-align: top;\n",
       "    }\n",
       "\n",
       "    .dataframe thead th {\n",
       "        text-align: right;\n",
       "    }\n",
       "</style>\n",
       "<table border=\"1\" class=\"dataframe\">\n",
       "  <thead>\n",
       "    <tr style=\"text-align: right;\">\n",
       "      <th></th>\n",
       "      <th>Pred_class</th>\n",
       "      <th>probabilidade</th>\n",
       "      <th>status</th>\n",
       "      <th>True_class</th>\n",
       "    </tr>\n",
       "  </thead>\n",
       "  <tbody>\n",
       "    <tr>\n",
       "      <th>0</th>\n",
       "      <td>2</td>\n",
       "      <td>0.079892</td>\n",
       "      <td>approved</td>\n",
       "      <td>0.0</td>\n",
       "    </tr>\n",
       "    <tr>\n",
       "      <th>1</th>\n",
       "      <td>2</td>\n",
       "      <td>0.379377</td>\n",
       "      <td>approved</td>\n",
       "      <td>74.0</td>\n",
       "    </tr>\n",
       "    <tr>\n",
       "      <th>2</th>\n",
       "      <td>2</td>\n",
       "      <td>0.379377</td>\n",
       "      <td>approved</td>\n",
       "      <td>74.0</td>\n",
       "    </tr>\n",
       "    <tr>\n",
       "      <th>3</th>\n",
       "      <td>2</td>\n",
       "      <td>0.420930</td>\n",
       "      <td>approved</td>\n",
       "      <td>74.0</td>\n",
       "    </tr>\n",
       "    <tr>\n",
       "      <th>4</th>\n",
       "      <td>2</td>\n",
       "      <td>0.607437</td>\n",
       "      <td>approved</td>\n",
       "      <td>2.0</td>\n",
       "    </tr>\n",
       "  </tbody>\n",
       "</table>\n",
       "</div>"
      ],
      "text/plain": [
       "   Pred_class  probabilidade    status  True_class\n",
       "0           2       0.079892  approved         0.0\n",
       "1           2       0.379377  approved        74.0\n",
       "2           2       0.379377  approved        74.0\n",
       "3           2       0.420930  approved        74.0\n",
       "4           2       0.607437  approved         2.0"
      ]
     },
     "execution_count": 22,
     "metadata": {},
     "output_type": "execute_result"
    }
   ],
   "source": [
    "df1.head()"
   ]
  },
  {
   "cell_type": "code",
   "execution_count": 23,
   "metadata": {},
   "outputs": [
    {
     "data": {
      "text/plain": [
       "False    643\n",
       "Name: True_class, dtype: int64"
      ]
     },
     "execution_count": 23,
     "metadata": {},
     "output_type": "execute_result"
    }
   ],
   "source": [
    "df1['True_class'].isnull().value_counts()"
   ]
  },
  {
   "cell_type": "markdown",
   "metadata": {},
   "source": [
    "## Métricas"
   ]
  },
  {
   "cell_type": "markdown",
   "metadata": {},
   "source": [
    "Considerando:\n",
    "\n",
    "- VP = verdadeiros positivos\n",
    "- FP = falsos posistivos\n",
    "- FN = falsos negativos\n",
    "- VF = verdadeiros falsos\n",
    "\n",
    "Vamos utilizar as seguintes métricas:\n",
    "\n",
    "- A Acurácia, que mede o numero de predições corretas em relação ao total de predições (VP+VF/VP+FP+FN+VF)\n",
    "- A Precisão, que quantifica o número de verdadeiros positivos dentre todas as previsões positivas (VP/VP+FP)\n",
    "- O Recall, que quantifica o numero de verdadeiros positivos dentro todos os exemplos positivos \n",
    "do dataset (VP/VP+FN)\n",
    "- O F1, que é um média harmonica entre a precisão e o recall (2*Precisao*Recall/(Precisao+Recall))\n",
    "\n",
    "Uma vez que estamos tratando de um problema de multiplas classes vamos considerar a precisão, o recall e o F1 weighted average, que faz uma média ponderada dos indicadores por classe. Estas métricas podem ser encontradas abaixo:\n"
   ]
  },
  {
   "cell_type": "code",
   "execution_count": 24,
   "metadata": {},
   "outputs": [
    {
     "name": "stdout",
     "output_type": "stream",
     "text": [
      "              precision    recall  f1-score   support\n",
      "\n",
      "         0.0       0.00      0.00      0.00        54\n",
      "         2.0       0.77      0.77      0.77        61\n",
      "         3.0       0.79      0.83      0.81        60\n",
      "         4.0       0.78      0.86      0.82        21\n",
      "        11.0       0.44      1.00      0.62         4\n",
      "        12.0       0.83      0.71      0.77         7\n",
      "        15.0       0.67      0.67      0.67         3\n",
      "        17.0       0.86      0.75      0.80         8\n",
      "        19.0       0.40      0.40      0.40         5\n",
      "        21.0       0.00      0.00      0.00         0\n",
      "        22.0       0.67      0.91      0.77        11\n",
      "        24.0       0.71      0.62      0.67        16\n",
      "        25.0       0.83      1.00      0.91        10\n",
      "        26.0       0.33      0.50      0.40         2\n",
      "        28.0       0.50      1.00      0.67         1\n",
      "        29.0       1.00      1.00      1.00         7\n",
      "        30.0       0.60      1.00      0.75         3\n",
      "        31.0       0.00      0.00      0.00         0\n",
      "        32.0       0.25      0.50      0.33         4\n",
      "        33.0       0.00      0.00      0.00         0\n",
      "        36.0       1.00      1.00      1.00         1\n",
      "        39.0       0.67      1.00      0.80         4\n",
      "        40.0       1.00      0.78      0.88         9\n",
      "        43.0       0.50      1.00      0.67         3\n",
      "        46.0       1.00      1.00      1.00         1\n",
      "        48.0       0.50      0.25      0.33         4\n",
      "        49.0       0.00      0.00      0.00         0\n",
      "        50.0       0.00      0.00      0.00         0\n",
      "        52.0       0.30      1.00      0.46         6\n",
      "        54.0       1.00      1.00      1.00         2\n",
      "        55.0       0.82      0.93      0.87        15\n",
      "        56.0       1.00      1.00      1.00         3\n",
      "        58.0       1.00      0.50      0.67         2\n",
      "        59.0       0.25      1.00      0.40         1\n",
      "        60.0       0.81      0.89      0.85        28\n",
      "        62.0       0.75      0.60      0.67         5\n",
      "        63.0       1.00      1.00      1.00         2\n",
      "        64.0       0.00      0.00      0.00         0\n",
      "        65.0       0.33      0.50      0.40         2\n",
      "        66.0       0.00      0.00      0.00         1\n",
      "        68.0       0.67      1.00      0.80         2\n",
      "        69.0       1.00      1.00      1.00         1\n",
      "        70.0       1.00      0.75      0.86         4\n",
      "        73.0       0.50      0.50      0.50         2\n",
      "        74.0       0.95      0.72      0.82        78\n",
      "        76.0       1.00      0.80      0.89        10\n",
      "        77.0       0.77      0.83      0.80        29\n",
      "        78.0       1.00      1.00      1.00         3\n",
      "        79.0       1.00      0.43      0.60         7\n",
      "        81.0       0.60      0.33      0.43         9\n",
      "        82.0       1.00      1.00      1.00         5\n",
      "        84.0       1.00      1.00      1.00         1\n",
      "        85.0       0.43      0.60      0.50        10\n",
      "        86.0       0.33      0.20      0.25         5\n",
      "        87.0       1.00      0.67      0.80         6\n",
      "        88.0       1.00      1.00      1.00         3\n",
      "        90.0       0.67      1.00      0.80         2\n",
      "        92.0       0.20      0.50      0.29         2\n",
      "        93.0       1.00      1.00      1.00         1\n",
      "        94.0       1.00      1.00      1.00         1\n",
      "        95.0       0.00      0.00      0.00         0\n",
      "        96.0       0.90      0.90      0.90        21\n",
      "        98.0       1.00      0.71      0.83         7\n",
      "        99.0       0.57      0.80      0.67        10\n",
      "       100.0       1.00      1.00      1.00         1\n",
      "       102.0       1.00      0.62      0.77         8\n",
      "       103.0       0.67      1.00      0.80         6\n",
      "       104.0       0.25      1.00      0.40         1\n",
      "       105.0       0.00      0.00      0.00         0\n",
      "       106.0       0.25      1.00      0.40         1\n",
      "       107.0       1.00      1.00      1.00         1\n",
      "       108.0       0.69      0.90      0.78        10\n",
      "       109.0       0.00      0.00      0.00         0\n",
      "       110.0       0.69      1.00      0.81        11\n",
      "       111.0       0.33      1.00      0.50         1\n",
      "       112.0       0.50      0.67      0.57         3\n",
      "       113.0       1.00      1.00      1.00         1\n",
      "       114.0       1.00      1.00      1.00         1\n",
      "       115.0       0.80      0.80      0.80         5\n",
      "       116.0       1.00      0.67      0.80         3\n",
      "       117.0       0.00      0.00      0.00         3\n",
      "       118.0       0.40      1.00      0.57         2\n",
      "\n",
      "    accuracy                           0.72       643\n",
      "   macro avg       0.63      0.70      0.64       643\n",
      "weighted avg       0.72      0.72      0.70       643\n",
      "\n"
     ]
    }
   ],
   "source": [
    "from sklearn import metrics\n",
    "print(metrics.classification_report(df1['True_class'],df1['Pred_class']))"
   ]
  },
  {
   "cell_type": "code",
   "execution_count": null,
   "metadata": {
    "collapsed": true
   },
   "outputs": [],
   "source": []
  }
 ],
 "metadata": {
  "kernelspec": {
   "display_name": "Python [default]",
   "language": "python",
   "name": "python3"
  },
  "language_info": {
   "codemirror_mode": {
    "name": "ipython",
    "version": 3
   },
   "file_extension": ".py",
   "mimetype": "text/x-python",
   "name": "python",
   "nbconvert_exporter": "python",
   "pygments_lexer": "ipython3",
   "version": "3.5.6"
  }
 },
 "nbformat": 4,
 "nbformat_minor": 2
}
